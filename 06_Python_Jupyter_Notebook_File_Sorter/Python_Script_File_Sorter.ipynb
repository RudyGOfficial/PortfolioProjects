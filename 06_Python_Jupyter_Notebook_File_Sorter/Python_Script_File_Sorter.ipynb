{
 "cells": [
  {
   "cell_type": "markdown",
   "id": "88be31b8",
   "metadata": {},
   "source": [
    "# Automatic File Sorter in File Explorer"
   ]
  },
  {
   "cell_type": "markdown",
   "id": "f23feca6",
   "metadata": {},
   "source": [
    "This notebook runs a python script to demonstrate how to automatically organize files into folders based on user-defined criteria."
   ]
  },
  {
   "cell_type": "markdown",
   "id": "c1eeec98",
   "metadata": {},
   "source": [
    "#### 1. Import modules to access operating system, shell utilities tasks, & filedialog capabilities."
   ]
  },
  {
   "cell_type": "code",
   "execution_count": 1,
   "id": "454f4b88",
   "metadata": {},
   "outputs": [],
   "source": [
    "import os, shutil\n",
    "import tkinter as tk\n",
    "from tkinter import filedialog"
   ]
  },
  {
   "cell_type": "markdown",
   "id": "66434fdc",
   "metadata": {},
   "source": [
    "#### 2. Hard-code variables that store the main path, files in the main path, and a dictionary specifying the extensions that each folder accepts."
   ]
  },
  {
   "cell_type": "code",
   "execution_count": 2,
   "id": "e7341975",
   "metadata": {},
   "outputs": [],
   "source": [
    "# assign this notebook's path as the main path\n",
    "my_path = os.getcwd() + \"\\\\\"\n",
    "\n",
    "# create a list of all files present in the main path\n",
    "my_files = os.listdir(my_path)\n",
    "\n",
    "# create a dictionary of directories and acceptable extensions for each\n",
    "my_directories = {'datasheets':['.xlsx'], \n",
    "                     'images':['.jpg'], \n",
    "                     'texts':['.txt']}"
   ]
  },
  {
   "cell_type": "markdown",
   "id": "556f6ad5",
   "metadata": {},
   "source": [
    "#### 3. Create a class that takes the hard-coded variables and encapsulates the logic required to create folders, move files, & open windows."
   ]
  },
  {
   "cell_type": "code",
   "execution_count": 3,
   "id": "46e6a3b0",
   "metadata": {},
   "outputs": [],
   "source": [
    "class FileSorter:\n",
    "    # Assign the instance variables with the parameters received when initializing the FileSorter object\n",
    "    def __init__(self, file_path, file_names, directory_dictionary):\n",
    "        self.file_path = file_path\n",
    "        self.file_names = file_names\n",
    "        self.directory_dictionary = directory_dictionary\n",
    "    \n",
    "    # Creates each folder listed in the directory dictionary after checking if they don't exist\n",
    "    def CreateFolders(self):\n",
    "        for folder_name in self.directory_dictionary.keys():\n",
    "            if not os.path.exists(self.file_path + folder_name):\n",
    "                os.makedirs(self.file_path + folder_name)\n",
    "\n",
    "    # Opens a window of the directory where folders were made & files moved\n",
    "    def OpenPathWindow(self):\n",
    "        root = tk.Tk()\n",
    "        root.withdraw()  # Hide the main tkinter window\n",
    "\n",
    "        # Opens the window of the main file path\n",
    "        filedialog.askopenfilename(initialdir=self.file_path)\n",
    "\n",
    "    # Moves specific files from the main directory into one of the created folders.\n",
    "    # The folder that accepts the file's extension is identified and the file is moved there.\n",
    "    # If another file with the same name already exists in that folder, the file is not moved.\n",
    "    def MoveFiles(self):\n",
    "        for file in self.file_names:\n",
    "            file_extension = os.path.splitext(file)[1]\n",
    "            for folder_name,extension_list in self.directory_dictionary.items():\n",
    "                current_path = self.file_path + file  # current file location\n",
    "                new_path = self.file_path + folder_name + \"\\\\\" + file  # new file location\n",
    "                if file_extension in extension_list and not os.path.exists(new_path):\n",
    "                    shutil.move(current_path, new_path)"
   ]
  },
  {
   "cell_type": "markdown",
   "id": "4ed33eed",
   "metadata": {},
   "source": [
    "#### 4. Initialize an FileSorter object that passes the hard-coded variables as arguments and runs the class functions."
   ]
  },
  {
   "cell_type": "code",
   "execution_count": 5,
   "id": "202665e5",
   "metadata": {},
   "outputs": [],
   "source": [
    "# Initialize a FileSorter object\n",
    "file_sorter = FileSorter(my_path, my_files, my_directories)\n",
    "\n",
    "# Run the class functions to create folders, move files to them, and opens the main path window\n",
    "file_sorter.CreateFolders()\n",
    "file_sorter.MoveFiles()\n",
    "file_sorter.OpenPathWindow()"
   ]
  }
 ],
 "metadata": {
  "kernelspec": {
   "display_name": "Python 3 (ipykernel)",
   "language": "python",
   "name": "python3"
  },
  "language_info": {
   "codemirror_mode": {
    "name": "ipython",
    "version": 3
   },
   "file_extension": ".py",
   "mimetype": "text/x-python",
   "name": "python",
   "nbconvert_exporter": "python",
   "pygments_lexer": "ipython3",
   "version": "3.11.7"
  }
 },
 "nbformat": 4,
 "nbformat_minor": 5
}
